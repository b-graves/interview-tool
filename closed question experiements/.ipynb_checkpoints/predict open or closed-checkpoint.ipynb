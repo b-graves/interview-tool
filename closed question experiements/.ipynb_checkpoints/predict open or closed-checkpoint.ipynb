{
 "cells": [
  {
   "cell_type": "code",
   "execution_count": 6,
   "metadata": {},
   "outputs": [],
   "source": [
    "import pandas as pd\n",
    "import gzip\n",
    "import spacy\n",
    "\n",
    "def parse(path):\n",
    "  g = gzip.open(path, 'rb')\n",
    "  for l in g:\n",
    "    yield eval(l)\n",
    "\n",
    "def getDF(path):\n",
    "  i = 0\n",
    "  df = {}\n",
    "  for d in parse(path):\n",
    "    df[i] = d\n",
    "    i += 1\n",
    "  return pd.DataFrame.from_dict(df, orient='index')"
   ]
  },
  {
   "cell_type": "code",
   "execution_count": 2,
   "metadata": {},
   "outputs": [
    {
     "name": "stdout",
     "output_type": "stream",
     "text": [
      "qa_Video_Games.json.gz\n",
      "qa_Patio_Lawn_and_Garden.json.gz\n",
      "qa_Home_and_Kitchen.json.gz\n",
      "qa_Electronics.json.gz\n",
      "qa_Grocery_and_Gourmet_Food.json.gz\n",
      "qa_Automotive.json.gz\n",
      "qa_Arts_Crafts_and_Sewing.json.gz\n",
      "qa_Tools_and_Home_Improvement.json.gz\n",
      "qa_Sports_and_Outdoors.json.gz\n",
      "qa_Office_Products.json.gz\n",
      "qa_Cell_Phones_and_Accessories.json.gz\n",
      "qa_Baby.json.gz\n",
      "qa_Clothing_Shoes_and_Jewelry.json.gz\n",
      "qa_Appliances.json.gz\n",
      "qa_Beauty.json.gz\n",
      "qa_Pet_Supplies.json.gz\n",
      "qa_Musical_Instruments.json.gz\n",
      "qa_Industrial_and_Scientific.json.gz\n",
      "qa_Health_and_Personal_Care.json.gz\n",
      "qa_Software.json.gz\n",
      "qa_Toys_and_Games.json.gz\n"
     ]
    }
   ],
   "source": [
    "import os\n",
    "\n",
    "directory = os.fsencode(\"./\")\n",
    "\n",
    "categories = []\n",
    "\n",
    "for file in os.listdir(directory):\n",
    "     filename = os.fsdecode(file)\n",
    "     if filename.endswith(\".gz\"):\n",
    "        print(filename)\n",
    "        questions = getDF(filename)\n",
    "        questions = questions[[\"question\", \"questionType\"]]\n",
    "        categories.append(questions)"
   ]
  },
  {
   "cell_type": "code",
   "execution_count": 9,
   "metadata": {},
   "outputs": [],
   "source": [
    "import spacy\n",
    "\n",
    "nlp = spacy.load(\"en_core_web_sm\")"
   ]
  },
  {
   "cell_type": "code",
   "execution_count": 10,
   "metadata": {},
   "outputs": [
    {
     "data": {
      "text/html": [
       "<div>\n",
       "<style scoped>\n",
       "    .dataframe tbody tr th:only-of-type {\n",
       "        vertical-align: middle;\n",
       "    }\n",
       "\n",
       "    .dataframe tbody tr th {\n",
       "        vertical-align: top;\n",
       "    }\n",
       "\n",
       "    .dataframe thead th {\n",
       "        text-align: right;\n",
       "    }\n",
       "</style>\n",
       "<table border=\"1\" class=\"dataframe\">\n",
       "  <thead>\n",
       "    <tr style=\"text-align: right;\">\n",
       "      <th></th>\n",
       "      <th>question</th>\n",
       "      <th>questionType</th>\n",
       "    </tr>\n",
       "  </thead>\n",
       "  <tbody>\n",
       "    <tr>\n",
       "      <th>0</th>\n",
       "      <td>Have you done this before?</td>\n",
       "      <td>yes/no</td>\n",
       "    </tr>\n",
       "    <tr>\n",
       "      <th>1</th>\n",
       "      <td>How many times have you done this</td>\n",
       "      <td>yes/no</td>\n",
       "    </tr>\n",
       "    <tr>\n",
       "      <th>2</th>\n",
       "      <td>Can you tell me about youself</td>\n",
       "      <td>open-ended</td>\n",
       "    </tr>\n",
       "    <tr>\n",
       "      <th>3</th>\n",
       "      <td>Can I ask how that makes you feel?</td>\n",
       "      <td>open-ended</td>\n",
       "    </tr>\n",
       "    <tr>\n",
       "      <th>4</th>\n",
       "      <td>Can you tell me how that makes you feel?</td>\n",
       "      <td>open-ended</td>\n",
       "    </tr>\n",
       "    <tr>\n",
       "      <th>5</th>\n",
       "      <td>Can I ask why you feel like that?</td>\n",
       "      <td>open-ended</td>\n",
       "    </tr>\n",
       "    <tr>\n",
       "      <th>6</th>\n",
       "      <td>Can you tell me why you feel like that?</td>\n",
       "      <td>open-ended</td>\n",
       "    </tr>\n",
       "    <tr>\n",
       "      <th>7</th>\n",
       "      <td>Can you give me an example of that?</td>\n",
       "      <td>open-ended</td>\n",
       "    </tr>\n",
       "    <tr>\n",
       "      <th>8</th>\n",
       "      <td>Can you tell me about a significant experience...</td>\n",
       "      <td>open-ended</td>\n",
       "    </tr>\n",
       "    <tr>\n",
       "      <th>9</th>\n",
       "      <td>Can I ask what makes you feel like that?</td>\n",
       "      <td>open-ended</td>\n",
       "    </tr>\n",
       "    <tr>\n",
       "      <th>10</th>\n",
       "      <td>Can you describe what your test was like?</td>\n",
       "      <td>open-ended</td>\n",
       "    </tr>\n",
       "    <tr>\n",
       "      <th>11</th>\n",
       "      <td>Can you describe why you like that?</td>\n",
       "      <td>open-ended</td>\n",
       "    </tr>\n",
       "    <tr>\n",
       "      <th>12</th>\n",
       "      <td>Can you describe how you did that?</td>\n",
       "      <td>open-ended</td>\n",
       "    </tr>\n",
       "    <tr>\n",
       "      <th>13</th>\n",
       "      <td>Would you reccommend it to a friend?</td>\n",
       "      <td>yes/no</td>\n",
       "    </tr>\n",
       "    <tr>\n",
       "      <th>14</th>\n",
       "      <td>Could you reccommend it to a friend?</td>\n",
       "      <td>yes/no</td>\n",
       "    </tr>\n",
       "    <tr>\n",
       "      <th>15</th>\n",
       "      <td>Should I reccommend it to a friend?</td>\n",
       "      <td>yes/no</td>\n",
       "    </tr>\n",
       "    <tr>\n",
       "      <th>16</th>\n",
       "      <td>Could you describe how you did that?</td>\n",
       "      <td>open-ended</td>\n",
       "    </tr>\n",
       "  </tbody>\n",
       "</table>\n",
       "</div>"
      ],
      "text/plain": [
       "                                             question questionType\n",
       "0                          Have you done this before?       yes/no\n",
       "1                   How many times have you done this       yes/no\n",
       "2                       Can you tell me about youself   open-ended\n",
       "3                  Can I ask how that makes you feel?   open-ended\n",
       "4            Can you tell me how that makes you feel?   open-ended\n",
       "5                   Can I ask why you feel like that?   open-ended\n",
       "6             Can you tell me why you feel like that?   open-ended\n",
       "7                 Can you give me an example of that?   open-ended\n",
       "8   Can you tell me about a significant experience...   open-ended\n",
       "9            Can I ask what makes you feel like that?   open-ended\n",
       "10          Can you describe what your test was like?   open-ended\n",
       "11                Can you describe why you like that?   open-ended\n",
       "12                 Can you describe how you did that?   open-ended\n",
       "13               Would you reccommend it to a friend?       yes/no\n",
       "14               Could you reccommend it to a friend?       yes/no\n",
       "15                Should I reccommend it to a friend?       yes/no\n",
       "16               Could you describe how you did that?   open-ended"
      ]
     },
     "execution_count": 10,
     "metadata": {},
     "output_type": "execute_result"
    }
   ],
   "source": [
    "interview_questions = [\n",
    "    {\"question\": \"Have you done this before?\", \"questionType\":\"yes/no\"},\n",
    "    {\"question\": \"How many times have you done this\", \"questionType\":\"yes/no\"},\n",
    "    {\"question\": \"Can you tell me about youself\", \"questionType\":\"open-ended\"},\n",
    "    {\"question\": \"Can I ask how that makes you feel?\", \"questionType\": \"open-ended\"},\n",
    "    {\"question\": \"Can you tell me how that makes you feel?\", \"questionType\": \"open-ended\"},\n",
    "    {\"question\": \"Can I ask why you feel like that?\", \"questionType\": \"open-ended\"},\n",
    "    {\"question\": \"Can you tell me why you feel like that?\", \"questionType\": \"open-ended\"},\n",
    "    {\"question\": \"Can you give me an example of that?\", \"questionType\": \"open-ended\"},\n",
    "    {\"question\": \"Can you tell me about a significant experience you had?\", \"questionType\": \"open-ended\"},\n",
    "    {\"question\": \"Can I ask what makes you feel like that?\", \"questionType\": \"open-ended\"},\n",
    "    {\"question\": \"Can you describe what your test was like?\", \"questionType\": \"open-ended\"},\n",
    "    {\"question\": \"Can you describe why you like that?\", \"questionType\": \"open-ended\"},\n",
    "    {\"question\": \"Can you describe how you did that?\", \"questionType\": \"open-ended\"},\n",
    "    {\"question\": \"Would you reccommend it to a friend?\", \"questionType\": \"yes/no\"},\n",
    "    {\"question\": \"Could you reccommend it to a friend?\", \"questionType\": \"yes/no\"},\n",
    "    {\"question\": \"Should I reccommend it to a friend?\", \"questionType\": \"yes/no\"},\n",
    "    {\"question\": \"Could you describe how you did that?\", \"questionType\": \"open-ended\"},\n",
    "]\n",
    "\n",
    "pd.DataFrame.from_dict(interview_questions)"
   ]
  },
  {
   "cell_type": "code",
   "execution_count": 11,
   "metadata": {},
   "outputs": [],
   "source": [
    "categories.append(pd.DataFrame.from_dict(interview_questions))"
   ]
  },
  {
   "cell_type": "code",
   "execution_count": 12,
   "metadata": {},
   "outputs": [],
   "source": [
    "keywords = {\n",
    "    \"open-ended\": {\n",
    "\n",
    "    },\n",
    "    \"yes/no\": {\n",
    "\n",
    "    }\n",
    "}\n",
    "\n",
    "question_words = {\n",
    "    \n",
    "}\n",
    "\n",
    "average_word_lengths = {\n",
    "    \"open-ended\": {\n",
    "\n",
    "    },\n",
    "    \"yes/no\": {\n",
    "\n",
    "    }\n",
    "}\n",
    "\n",
    "word_lengths = {\n",
    "    \"open-ended\": [],\n",
    "    \"yes/no\": []\n",
    "}"
   ]
  },
  {
   "cell_type": "code",
   "execution_count": 13,
   "metadata": {
    "scrolled": true
   },
   "outputs": [
    {
     "name": "stdout",
     "output_type": "stream",
     "text": [
      "Category: 1/1\n"
     ]
    }
   ],
   "source": [
    "for i, questions in enumerate(categories):\n",
    "    print(\"Category: \"+str(i+1)+\"/\"+str(len(categories)))\n",
    "    for index, question in questions.sample(n=(25000 if questions.shape[0] > 25000 else questions.shape[0]) , random_state=1).iterrows():\n",
    "        doc = nlp(question[\"question\"])\n",
    "#         token = doc[0]\n",
    "#         if token.pos_ in [\"AUX\", \"ADV\"]:\n",
    "#             word_lengths[question[\"questionType\"]].append(len(doc))\n",
    "#             keyword = token.text.lower()\n",
    "#             if keyword in keywords[question[\"questionType\"]].keys():\n",
    "#                 keywords[question[\"questionType\"]][keyword] += 1\n",
    "#                 average_word_lengths[question[\"questionType\"]][keyword].append(len(doc))\n",
    "#             else:\n",
    "#                 keywords[question[\"questionType\"]][keyword] = 1\n",
    "#                 average_word_lengths[question[\"questionType\"]][keyword] = [len(doc)]\n",
    "\n",
    "#             if keyword in question_words.keys():\n",
    "#                 question_words[keyword] += 1\n",
    "#             else:\n",
    "#                 question_words[keyword] = 1\n",
    "        \n",
    "        words = []\n",
    "        \n",
    "        for i in range(len(doc)):\n",
    "            if doc[i].pos_ in [\"AUX\", \"ADV\"] or doc[i].text in [\"what\", \"who\", \"can\", \"which\", \"would\", \"could\", \"should\"] :\n",
    "                words.append(doc[i].text.lower())\n",
    "            else:\n",
    "                words.append(\"*\")\n",
    "                \n",
    "#         for i in range(1, len(words)):\n",
    "        words += [\"*\" for i in range(6)]\n",
    "        keyword = \" \".join(words[:6])\n",
    "        if any(c.isalpha() for c in keyword):\n",
    "            word_lengths[question[\"questionType\"]].append(len(doc))\n",
    "            if keyword in keywords[question[\"questionType\"]].keys():\n",
    "                keywords[question[\"questionType\"]][keyword] += 1\n",
    "                average_word_lengths[question[\"questionType\"]][keyword].append(len(doc))\n",
    "            else:\n",
    "                keywords[question[\"questionType\"]][keyword] = 1\n",
    "                average_word_lengths[question[\"questionType\"]][keyword] = [len(doc)]\n",
    "\n",
    "            if keyword in question_words.keys():\n",
    "                question_words[keyword] += 1\n",
    "            else:\n",
    "                question_words[keyword] = 1"
   ]
  },
  {
   "cell_type": "code",
   "execution_count": 14,
   "metadata": {},
   "outputs": [],
   "source": [
    "open_words = pd.DataFrame.from_dict(keywords[\"open-ended\"], orient=\"index\", columns=[\"count\"]).sort_values(by=\"count\", ascending=False)\n",
    "closed_words = pd.DataFrame.from_dict(keywords[\"yes/no\"], orient=\"index\", columns=[\"count\"]).sort_values(by=\"count\", ascending=False)\n",
    "\n",
    "open_words[\"word\"] = open_words.index\n",
    "closed_words[\"word\"] = closed_words.index\n",
    "\n",
    "open_words['freq'] = open_words['count'].apply(lambda count: count/len(word_lengths[\"open-ended\"]))\n",
    "closed_words['freq'] = closed_words['count'].apply(lambda count: count/len(word_lengths[\"yes/no\"]))\n",
    "\n",
    "avr_length_open = sum(word_lengths[\"open-ended\"]) / len(word_lengths[\"open-ended\"])\n",
    "avr_length_closed = sum(word_lengths[\"yes/no\"]) / len(word_lengths[\"yes/no\"])"
   ]
  },
  {
   "cell_type": "code",
   "execution_count": 15,
   "metadata": {},
   "outputs": [
    {
     "data": {
      "text/html": [
       "<div>\n",
       "<style scoped>\n",
       "    .dataframe tbody tr th:only-of-type {\n",
       "        vertical-align: middle;\n",
       "    }\n",
       "\n",
       "    .dataframe tbody tr th {\n",
       "        vertical-align: top;\n",
       "    }\n",
       "\n",
       "    .dataframe thead th {\n",
       "        text-align: right;\n",
       "    }\n",
       "</style>\n",
       "<table border=\"1\" class=\"dataframe\">\n",
       "  <thead>\n",
       "    <tr style=\"text-align: right;\">\n",
       "      <th></th>\n",
       "      <th>count</th>\n",
       "      <th>word</th>\n",
       "      <th>freq</th>\n",
       "    </tr>\n",
       "  </thead>\n",
       "  <tbody>\n",
       "    <tr>\n",
       "      <th>* * * what * *</th>\n",
       "      <td>2</td>\n",
       "      <td>* * * what * *</td>\n",
       "      <td>0.222222</td>\n",
       "    </tr>\n",
       "    <tr>\n",
       "      <th>* * * how * did</th>\n",
       "      <td>2</td>\n",
       "      <td>* * * how * did</td>\n",
       "      <td>0.222222</td>\n",
       "    </tr>\n",
       "    <tr>\n",
       "      <th>* * * why * *</th>\n",
       "      <td>2</td>\n",
       "      <td>* * * why * *</td>\n",
       "      <td>0.222222</td>\n",
       "    </tr>\n",
       "    <tr>\n",
       "      <th>* * * how * *</th>\n",
       "      <td>1</td>\n",
       "      <td>* * * how * *</td>\n",
       "      <td>0.111111</td>\n",
       "    </tr>\n",
       "    <tr>\n",
       "      <th>* * * * why *</th>\n",
       "      <td>1</td>\n",
       "      <td>* * * * why *</td>\n",
       "      <td>0.111111</td>\n",
       "    </tr>\n",
       "    <tr>\n",
       "      <th>* * * * how *</th>\n",
       "      <td>1</td>\n",
       "      <td>* * * * how *</td>\n",
       "      <td>0.111111</td>\n",
       "    </tr>\n",
       "  </tbody>\n",
       "</table>\n",
       "</div>"
      ],
      "text/plain": [
       "                 count             word      freq\n",
       "* * * what * *       2   * * * what * *  0.222222\n",
       "* * * how * did      2  * * * how * did  0.222222\n",
       "* * * why * *        2    * * * why * *  0.222222\n",
       "* * * how * *        1    * * * how * *  0.111111\n",
       "* * * * why *        1    * * * * why *  0.111111\n",
       "* * * * how *        1    * * * * how *  0.111111"
      ]
     },
     "execution_count": 15,
     "metadata": {},
     "output_type": "execute_result"
    }
   ],
   "source": [
    "open_words.head(40)"
   ]
  },
  {
   "cell_type": "code",
   "execution_count": 16,
   "metadata": {},
   "outputs": [
    {
     "data": {
      "text/html": [
       "<div>\n",
       "<style scoped>\n",
       "    .dataframe tbody tr th:only-of-type {\n",
       "        vertical-align: middle;\n",
       "    }\n",
       "\n",
       "    .dataframe tbody tr th {\n",
       "        vertical-align: top;\n",
       "    }\n",
       "\n",
       "    .dataframe thead th {\n",
       "        text-align: right;\n",
       "    }\n",
       "</style>\n",
       "<table border=\"1\" class=\"dataframe\">\n",
       "  <thead>\n",
       "    <tr style=\"text-align: right;\">\n",
       "      <th></th>\n",
       "      <th>count</th>\n",
       "      <th>word</th>\n",
       "      <th>freq</th>\n",
       "    </tr>\n",
       "  </thead>\n",
       "  <tbody>\n",
       "    <tr>\n",
       "      <th>how * * have * *</th>\n",
       "      <td>1</td>\n",
       "      <td>how * * have * *</td>\n",
       "      <td>0.5</td>\n",
       "    </tr>\n",
       "    <tr>\n",
       "      <th>have * * * * *</th>\n",
       "      <td>1</td>\n",
       "      <td>have * * * * *</td>\n",
       "      <td>0.5</td>\n",
       "    </tr>\n",
       "  </tbody>\n",
       "</table>\n",
       "</div>"
      ],
      "text/plain": [
       "                  count              word  freq\n",
       "how * * have * *      1  how * * have * *   0.5\n",
       "have * * * * *        1    have * * * * *   0.5"
      ]
     },
     "execution_count": 16,
     "metadata": {},
     "output_type": "execute_result"
    }
   ],
   "source": [
    "closed_words.head(50)"
   ]
  },
  {
   "cell_type": "code",
   "execution_count": 19,
   "metadata": {},
   "outputs": [],
   "source": [
    "import json\n",
    "def dict_predict(question):\n",
    "    with open('question_data.json') as json_file:\n",
    "        data = json.load(json_file)\n",
    "    words = question.lower().split(\" \")\n",
    "    for structure in data.keys():\n",
    "        elements = structure.split(\" \")\n",
    "        match = True\n",
    "        for i, element in enumerate(elements):\n",
    "            if i < len(words):\n",
    "                if element != \"*\" and element != words[i]:\n",
    "                    match = False\n",
    "            \n",
    "        if match:\n",
    "            return data[structure]\n",
    "    return 0.5"
   ]
  },
  {
   "cell_type": "code",
   "execution_count": 20,
   "metadata": {},
   "outputs": [
    {
     "data": {
      "text/plain": [
       "0.21679373476479435"
      ]
     },
     "execution_count": 20,
     "metadata": {},
     "output_type": "execute_result"
    }
   ],
   "source": [
    "dict_predict(\"Does this come with a remote for each or does the same remote work both?\")"
   ]
  },
  {
   "cell_type": "code",
   "execution_count": 21,
   "metadata": {},
   "outputs": [],
   "source": [
    "def predict(question):\n",
    "    word = str(question[0]).lower()\n",
    "    length = len(question)\n",
    "    if word in open_words.index.values and word in closed_words.index.values:\n",
    "        open_freq = open_words.loc[word][\"freq\"]\n",
    "        closed_freq = closed_words.loc[word][\"freq\"]\n",
    "        \n",
    "        open_count = open_words.loc[word][\"count\"]\n",
    "        closed_count = closed_words.loc[word][\"count\"]    \n",
    "        \n",
    "        prediction = open_count / (open_count + closed_count)\n",
    "        \n",
    "    elif word in open_words.index.values:\n",
    "        prediction = 1\n",
    "    elif word in closed_words.index.values:\n",
    "        prediction = 0\n",
    "    else:\n",
    "        prediction = 0.5\n",
    "    \n",
    "    if prediction > 0.5:\n",
    "        return \"open-ended\", prediction\n",
    "    elif prediction < 0.5:\n",
    "        return \"yes/no\", prediction\n",
    "    else:\n",
    "        return \"unknown\", prediction"
   ]
  },
  {
   "cell_type": "code",
   "execution_count": 22,
   "metadata": {},
   "outputs": [
    {
     "data": {
      "text/html": [
       "<div>\n",
       "<style scoped>\n",
       "    .dataframe tbody tr th:only-of-type {\n",
       "        vertical-align: middle;\n",
       "    }\n",
       "\n",
       "    .dataframe tbody tr th {\n",
       "        vertical-align: top;\n",
       "    }\n",
       "\n",
       "    .dataframe thead th {\n",
       "        text-align: right;\n",
       "    }\n",
       "</style>\n",
       "<table border=\"1\" class=\"dataframe\">\n",
       "  <thead>\n",
       "    <tr style=\"text-align: right;\">\n",
       "      <th></th>\n",
       "      <th>count</th>\n",
       "      <th>word</th>\n",
       "      <th>type</th>\n",
       "    </tr>\n",
       "  </thead>\n",
       "  <tbody>\n",
       "    <tr>\n",
       "      <th>* * * what * *</th>\n",
       "      <td>2</td>\n",
       "      <td>* * * what * *</td>\n",
       "      <td>(open-ended, 1)</td>\n",
       "    </tr>\n",
       "    <tr>\n",
       "      <th>* * * how * did</th>\n",
       "      <td>2</td>\n",
       "      <td>* * * how * did</td>\n",
       "      <td>(open-ended, 1)</td>\n",
       "    </tr>\n",
       "    <tr>\n",
       "      <th>* * * why * *</th>\n",
       "      <td>2</td>\n",
       "      <td>* * * why * *</td>\n",
       "      <td>(open-ended, 1)</td>\n",
       "    </tr>\n",
       "    <tr>\n",
       "      <th>* * * how * *</th>\n",
       "      <td>1</td>\n",
       "      <td>* * * how * *</td>\n",
       "      <td>(open-ended, 1)</td>\n",
       "    </tr>\n",
       "    <tr>\n",
       "      <th>* * * * why *</th>\n",
       "      <td>1</td>\n",
       "      <td>* * * * why *</td>\n",
       "      <td>(open-ended, 1)</td>\n",
       "    </tr>\n",
       "    <tr>\n",
       "      <th>* * * * how *</th>\n",
       "      <td>1</td>\n",
       "      <td>* * * * how *</td>\n",
       "      <td>(open-ended, 1)</td>\n",
       "    </tr>\n",
       "    <tr>\n",
       "      <th>how * * have * *</th>\n",
       "      <td>1</td>\n",
       "      <td>how * * have * *</td>\n",
       "      <td>(yes/no, 0)</td>\n",
       "    </tr>\n",
       "    <tr>\n",
       "      <th>have * * * * *</th>\n",
       "      <td>1</td>\n",
       "      <td>have * * * * *</td>\n",
       "      <td>(yes/no, 0)</td>\n",
       "    </tr>\n",
       "  </tbody>\n",
       "</table>\n",
       "</div>"
      ],
      "text/plain": [
       "                  count              word             type\n",
       "* * * what * *        2    * * * what * *  (open-ended, 1)\n",
       "* * * how * did       2   * * * how * did  (open-ended, 1)\n",
       "* * * why * *         2     * * * why * *  (open-ended, 1)\n",
       "* * * how * *         1     * * * how * *  (open-ended, 1)\n",
       "* * * * why *         1     * * * * why *  (open-ended, 1)\n",
       "* * * * how *         1     * * * * how *  (open-ended, 1)\n",
       "how * * have * *      1  how * * have * *      (yes/no, 0)\n",
       "have * * * * *        1    have * * * * *      (yes/no, 0)"
      ]
     },
     "execution_count": 22,
     "metadata": {},
     "output_type": "execute_result"
    }
   ],
   "source": [
    "question_trigger_words = pd.DataFrame.from_dict(question_words, orient=\"index\", columns=[\"count\"]).sort_values(by=\"count\", ascending=False)\n",
    "\n",
    "question_trigger_words[\"word\"] = question_trigger_words.index\n",
    "question_trigger_words[\"type\"] = question_trigger_words[\"word\"].apply(lambda word: predict([word]))\n",
    "question_trigger_words"
   ]
  },
  {
   "cell_type": "code",
   "execution_count": 23,
   "metadata": {},
   "outputs": [],
   "source": [
    "# question_trigger_words = question_trigger_words[question_trigger_words[\"count\"] > 1]\n",
    "question_trigger_words[\"prediction\"] = question_trigger_words[\"type\"].apply(lambda word: word[1])\n",
    "question_trigger_words[\"prediction\"].to_dict()\n",
    "\n",
    "import json\n",
    "\n",
    "data = question_trigger_words[\"prediction\"].to_dict()\n",
    "\n",
    "with open('question_data.json', 'w') as outfile:\n",
    "    json.dump(data, outfile)"
   ]
  },
  {
   "cell_type": "code",
   "execution_count": 24,
   "metadata": {},
   "outputs": [],
   "source": [
    "test_data = []"
   ]
  },
  {
   "cell_type": "code",
   "execution_count": 25,
   "metadata": {},
   "outputs": [
    {
     "name": "stdout",
     "output_type": "stream",
     "text": [
      "Category: 1/1\n"
     ]
    },
    {
     "ename": "ValueError",
     "evalue": "Cannot take a larger sample than population when 'replace=False'",
     "output_type": "error",
     "traceback": [
      "\u001b[0;31m---------------------------------------------------------------------------\u001b[0m",
      "\u001b[0;31mValueError\u001b[0m                                Traceback (most recent call last)",
      "\u001b[0;32m<ipython-input-25-bd387b438ba3>\u001b[0m in \u001b[0;36m<module>\u001b[0;34m\u001b[0m\n\u001b[1;32m      4\u001b[0m \u001b[0;32mfor\u001b[0m \u001b[0mi\u001b[0m\u001b[0;34m,\u001b[0m \u001b[0mquestions\u001b[0m \u001b[0;32min\u001b[0m \u001b[0menumerate\u001b[0m\u001b[0;34m(\u001b[0m\u001b[0mcategories\u001b[0m\u001b[0;34m)\u001b[0m\u001b[0;34m:\u001b[0m\u001b[0;34m\u001b[0m\u001b[0;34m\u001b[0m\u001b[0m\n\u001b[1;32m      5\u001b[0m     \u001b[0mprint\u001b[0m\u001b[0;34m(\u001b[0m\u001b[0;34m\"Category: \"\u001b[0m\u001b[0;34m+\u001b[0m\u001b[0mstr\u001b[0m\u001b[0;34m(\u001b[0m\u001b[0mi\u001b[0m\u001b[0;34m+\u001b[0m\u001b[0;36m1\u001b[0m\u001b[0;34m)\u001b[0m\u001b[0;34m+\u001b[0m\u001b[0;34m\"/\"\u001b[0m\u001b[0;34m+\u001b[0m\u001b[0mstr\u001b[0m\u001b[0;34m(\u001b[0m\u001b[0mlen\u001b[0m\u001b[0;34m(\u001b[0m\u001b[0mcategories\u001b[0m\u001b[0;34m)\u001b[0m\u001b[0;34m)\u001b[0m\u001b[0;34m)\u001b[0m\u001b[0;34m\u001b[0m\u001b[0;34m\u001b[0m\u001b[0m\n\u001b[0;32m----> 6\u001b[0;31m     \u001b[0;32mfor\u001b[0m \u001b[0mindex\u001b[0m\u001b[0;34m,\u001b[0m \u001b[0mquestion\u001b[0m \u001b[0;32min\u001b[0m \u001b[0mquestions\u001b[0m\u001b[0;34m.\u001b[0m\u001b[0msample\u001b[0m\u001b[0;34m(\u001b[0m\u001b[0mn\u001b[0m\u001b[0;34m=\u001b[0m\u001b[0;36m100\u001b[0m\u001b[0;34m,\u001b[0m \u001b[0mrandom_state\u001b[0m\u001b[0;34m=\u001b[0m\u001b[0;36m0\u001b[0m\u001b[0;34m)\u001b[0m\u001b[0;34m.\u001b[0m\u001b[0miterrows\u001b[0m\u001b[0;34m(\u001b[0m\u001b[0;34m)\u001b[0m\u001b[0;34m:\u001b[0m\u001b[0;34m\u001b[0m\u001b[0;34m\u001b[0m\u001b[0m\n\u001b[0m\u001b[1;32m      7\u001b[0m         \u001b[0mdoc\u001b[0m \u001b[0;34m=\u001b[0m \u001b[0mnlp\u001b[0m\u001b[0;34m(\u001b[0m\u001b[0mquestion\u001b[0m\u001b[0;34m[\u001b[0m\u001b[0;34m\"question\"\u001b[0m\u001b[0;34m]\u001b[0m\u001b[0;34m)\u001b[0m\u001b[0;34m\u001b[0m\u001b[0;34m\u001b[0m\u001b[0m\n\u001b[1;32m      8\u001b[0m         \u001b[0mtoken\u001b[0m \u001b[0;34m=\u001b[0m \u001b[0mdoc\u001b[0m\u001b[0;34m[\u001b[0m\u001b[0;36m0\u001b[0m\u001b[0;34m]\u001b[0m\u001b[0;34m\u001b[0m\u001b[0;34m\u001b[0m\u001b[0m\n",
      "\u001b[0;32m/Library/Frameworks/Python.framework/Versions/3.7/lib/python3.7/site-packages/pandas/core/generic.py\u001b[0m in \u001b[0;36msample\u001b[0;34m(self, n, frac, replace, weights, random_state, axis)\u001b[0m\n\u001b[1;32m   5059\u001b[0m             )\n\u001b[1;32m   5060\u001b[0m \u001b[0;34m\u001b[0m\u001b[0m\n\u001b[0;32m-> 5061\u001b[0;31m         \u001b[0mlocs\u001b[0m \u001b[0;34m=\u001b[0m \u001b[0mrs\u001b[0m\u001b[0;34m.\u001b[0m\u001b[0mchoice\u001b[0m\u001b[0;34m(\u001b[0m\u001b[0maxis_length\u001b[0m\u001b[0;34m,\u001b[0m \u001b[0msize\u001b[0m\u001b[0;34m=\u001b[0m\u001b[0mn\u001b[0m\u001b[0;34m,\u001b[0m \u001b[0mreplace\u001b[0m\u001b[0;34m=\u001b[0m\u001b[0mreplace\u001b[0m\u001b[0;34m,\u001b[0m \u001b[0mp\u001b[0m\u001b[0;34m=\u001b[0m\u001b[0mweights\u001b[0m\u001b[0;34m)\u001b[0m\u001b[0;34m\u001b[0m\u001b[0;34m\u001b[0m\u001b[0m\n\u001b[0m\u001b[1;32m   5062\u001b[0m         \u001b[0;32mreturn\u001b[0m \u001b[0mself\u001b[0m\u001b[0;34m.\u001b[0m\u001b[0mtake\u001b[0m\u001b[0;34m(\u001b[0m\u001b[0mlocs\u001b[0m\u001b[0;34m,\u001b[0m \u001b[0maxis\u001b[0m\u001b[0;34m=\u001b[0m\u001b[0maxis\u001b[0m\u001b[0;34m)\u001b[0m\u001b[0;34m\u001b[0m\u001b[0;34m\u001b[0m\u001b[0m\n\u001b[1;32m   5063\u001b[0m \u001b[0;34m\u001b[0m\u001b[0m\n",
      "\u001b[0;32mmtrand.pyx\u001b[0m in \u001b[0;36mnumpy.random.mtrand.RandomState.choice\u001b[0;34m()\u001b[0m\n",
      "\u001b[0;31mValueError\u001b[0m: Cannot take a larger sample than population when 'replace=False'"
     ]
    }
   ],
   "source": [
    "count = 0\n",
    "success_count = 0\n",
    "\n",
    "for i, questions in enumerate(categories):\n",
    "    print(\"Category: \"+str(i+1)+\"/\"+str(len(categories)))\n",
    "    for index, question in questions.sample(n=100, random_state=0).iterrows():\n",
    "        doc = nlp(question[\"question\"])\n",
    "        token = doc[0]\n",
    "        if token.pos_ in [\"AUX\", \"ADV\"]:\n",
    "            prediction, confidence = predict(doc)\n",
    "            success = prediction == question[\"questionType\"]\n",
    "            test_data.append({\"question\": question[\"question\"], \"questionType\": question[\"questionType\"], \"prediction\": prediction, \"success\": success, \"confidence\": confidence})\n",
    "            if success:\n",
    "                success_count += 1\n",
    "            count += 1\n",
    "test_results = pd.DataFrame.from_dict(test_data)\n",
    "test_results\n",
    "\n",
    "print(success_count / count)"
   ]
  },
  {
   "cell_type": "code",
   "execution_count": 26,
   "metadata": {},
   "outputs": [
    {
     "name": "stdout",
     "output_type": "stream",
     "text": [
      "Category: 1/1\n"
     ]
    },
    {
     "ename": "ValueError",
     "evalue": "Cannot take a larger sample than population when 'replace=False'",
     "output_type": "error",
     "traceback": [
      "\u001b[0;31m---------------------------------------------------------------------------\u001b[0m",
      "\u001b[0;31mValueError\u001b[0m                                Traceback (most recent call last)",
      "\u001b[0;32m<ipython-input-26-80f1a55f76d7>\u001b[0m in \u001b[0;36m<module>\u001b[0;34m\u001b[0m\n\u001b[1;32m      4\u001b[0m \u001b[0;32mfor\u001b[0m \u001b[0mi\u001b[0m\u001b[0;34m,\u001b[0m \u001b[0mquestions\u001b[0m \u001b[0;32min\u001b[0m \u001b[0menumerate\u001b[0m\u001b[0;34m(\u001b[0m\u001b[0mcategories\u001b[0m\u001b[0;34m)\u001b[0m\u001b[0;34m:\u001b[0m\u001b[0;34m\u001b[0m\u001b[0;34m\u001b[0m\u001b[0m\n\u001b[1;32m      5\u001b[0m     \u001b[0mprint\u001b[0m\u001b[0;34m(\u001b[0m\u001b[0;34m\"Category: \"\u001b[0m\u001b[0;34m+\u001b[0m\u001b[0mstr\u001b[0m\u001b[0;34m(\u001b[0m\u001b[0mi\u001b[0m\u001b[0;34m+\u001b[0m\u001b[0;36m1\u001b[0m\u001b[0;34m)\u001b[0m\u001b[0;34m+\u001b[0m\u001b[0;34m\"/\"\u001b[0m\u001b[0;34m+\u001b[0m\u001b[0mstr\u001b[0m\u001b[0;34m(\u001b[0m\u001b[0mlen\u001b[0m\u001b[0;34m(\u001b[0m\u001b[0mcategories\u001b[0m\u001b[0;34m)\u001b[0m\u001b[0;34m)\u001b[0m\u001b[0;34m)\u001b[0m\u001b[0;34m\u001b[0m\u001b[0;34m\u001b[0m\u001b[0m\n\u001b[0;32m----> 6\u001b[0;31m     \u001b[0;32mfor\u001b[0m \u001b[0mindex\u001b[0m\u001b[0;34m,\u001b[0m \u001b[0mquestion\u001b[0m \u001b[0;32min\u001b[0m \u001b[0mquestions\u001b[0m\u001b[0;34m.\u001b[0m\u001b[0msample\u001b[0m\u001b[0;34m(\u001b[0m\u001b[0mn\u001b[0m\u001b[0;34m=\u001b[0m\u001b[0;36m1000\u001b[0m\u001b[0;34m,\u001b[0m \u001b[0mrandom_state\u001b[0m\u001b[0;34m=\u001b[0m\u001b[0;36m0\u001b[0m\u001b[0;34m)\u001b[0m\u001b[0;34m.\u001b[0m\u001b[0miterrows\u001b[0m\u001b[0;34m(\u001b[0m\u001b[0;34m)\u001b[0m\u001b[0;34m:\u001b[0m\u001b[0;34m\u001b[0m\u001b[0;34m\u001b[0m\u001b[0m\n\u001b[0m\u001b[1;32m      7\u001b[0m         \u001b[0mprint\u001b[0m\u001b[0;34m(\u001b[0m\u001b[0mquestion\u001b[0m\u001b[0;34m[\u001b[0m\u001b[0;34m\"question\"\u001b[0m\u001b[0;34m]\u001b[0m\u001b[0;34m)\u001b[0m\u001b[0;34m\u001b[0m\u001b[0;34m\u001b[0m\u001b[0m\n\u001b[1;32m      8\u001b[0m         \u001b[0mprediction\u001b[0m \u001b[0;34m=\u001b[0m \u001b[0mdict_predict\u001b[0m\u001b[0;34m(\u001b[0m\u001b[0mquestion\u001b[0m\u001b[0;34m[\u001b[0m\u001b[0;34m\"question\"\u001b[0m\u001b[0;34m]\u001b[0m\u001b[0;34m)\u001b[0m\u001b[0;34m\u001b[0m\u001b[0;34m\u001b[0m\u001b[0m\n",
      "\u001b[0;32m/Library/Frameworks/Python.framework/Versions/3.7/lib/python3.7/site-packages/pandas/core/generic.py\u001b[0m in \u001b[0;36msample\u001b[0;34m(self, n, frac, replace, weights, random_state, axis)\u001b[0m\n\u001b[1;32m   5059\u001b[0m             )\n\u001b[1;32m   5060\u001b[0m \u001b[0;34m\u001b[0m\u001b[0m\n\u001b[0;32m-> 5061\u001b[0;31m         \u001b[0mlocs\u001b[0m \u001b[0;34m=\u001b[0m \u001b[0mrs\u001b[0m\u001b[0;34m.\u001b[0m\u001b[0mchoice\u001b[0m\u001b[0;34m(\u001b[0m\u001b[0maxis_length\u001b[0m\u001b[0;34m,\u001b[0m \u001b[0msize\u001b[0m\u001b[0;34m=\u001b[0m\u001b[0mn\u001b[0m\u001b[0;34m,\u001b[0m \u001b[0mreplace\u001b[0m\u001b[0;34m=\u001b[0m\u001b[0mreplace\u001b[0m\u001b[0;34m,\u001b[0m \u001b[0mp\u001b[0m\u001b[0;34m=\u001b[0m\u001b[0mweights\u001b[0m\u001b[0;34m)\u001b[0m\u001b[0;34m\u001b[0m\u001b[0;34m\u001b[0m\u001b[0m\n\u001b[0m\u001b[1;32m   5062\u001b[0m         \u001b[0;32mreturn\u001b[0m \u001b[0mself\u001b[0m\u001b[0;34m.\u001b[0m\u001b[0mtake\u001b[0m\u001b[0;34m(\u001b[0m\u001b[0mlocs\u001b[0m\u001b[0;34m,\u001b[0m \u001b[0maxis\u001b[0m\u001b[0;34m=\u001b[0m\u001b[0maxis\u001b[0m\u001b[0;34m)\u001b[0m\u001b[0;34m\u001b[0m\u001b[0;34m\u001b[0m\u001b[0m\n\u001b[1;32m   5063\u001b[0m \u001b[0;34m\u001b[0m\u001b[0m\n",
      "\u001b[0;32mmtrand.pyx\u001b[0m in \u001b[0;36mnumpy.random.mtrand.RandomState.choice\u001b[0;34m()\u001b[0m\n",
      "\u001b[0;31mValueError\u001b[0m: Cannot take a larger sample than population when 'replace=False'"
     ]
    }
   ],
   "source": [
    "count = 0\n",
    "success_count = 0\n",
    "\n",
    "for i, questions in enumerate(categories):\n",
    "    print(\"Category: \"+str(i+1)+\"/\"+str(len(categories)))\n",
    "    for index, question in questions.sample(n=1000, random_state=0).iterrows():\n",
    "        print(question[\"question\"])\n",
    "        prediction = dict_predict(question[\"question\"])\n",
    "        if prediction > 0.5:\n",
    "            category = \"open-ended\"\n",
    "        elif prediction < 0.5:\n",
    "            category = \"yes/no\"\n",
    "        else:\n",
    "            category = \"unknown\"\n",
    "        print(category)\n",
    "        success = category == question[\"questionType\"]\n",
    "        test_data.append({\"question\": question[\"question\"], \"questionType\": question[\"questionType\"], \"prediction\": prediction, \"success\": success, \"confidence\": confidence})\n",
    "        if success:\n",
    "            success_count += 1\n",
    "        count += 1\n",
    "test_results = pd.DataFrame.from_dict(test_data)\n",
    "test_results\n",
    "\n",
    "print(success_count / count)"
   ]
  },
  {
   "cell_type": "code",
   "execution_count": null,
   "metadata": {},
   "outputs": [],
   "source": [
    "avr_length_open"
   ]
  },
  {
   "cell_type": "code",
   "execution_count": null,
   "metadata": {},
   "outputs": [],
   "source": [
    "avr_length_closed "
   ]
  },
  {
   "cell_type": "code",
   "execution_count": null,
   "metadata": {},
   "outputs": [],
   "source": [
    "test_results"
   ]
  },
  {
   "cell_type": "code",
   "execution_count": null,
   "metadata": {},
   "outputs": [],
   "source": [
    "dict_predict(\"Does this come with a remote for each or does the same remote work both?\")"
   ]
  },
  {
   "cell_type": "code",
   "execution_count": null,
   "metadata": {},
   "outputs": [],
   "source": []
  }
 ],
 "metadata": {
  "kernelspec": {
   "display_name": "Python 3",
   "language": "python",
   "name": "python3"
  },
  "language_info": {
   "codemirror_mode": {
    "name": "ipython",
    "version": 3
   },
   "file_extension": ".py",
   "mimetype": "text/x-python",
   "name": "python",
   "nbconvert_exporter": "python",
   "pygments_lexer": "ipython3",
   "version": "3.7.5"
  }
 },
 "nbformat": 4,
 "nbformat_minor": 4
}
